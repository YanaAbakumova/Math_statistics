{
 "cells": [
  {
   "cell_type": "code",
   "execution_count": 7,
   "metadata": {},
   "outputs": [],
   "source": [
    "import math"
   ]
  },
  {
   "cell_type": "markdown",
   "metadata": {},
   "source": [
    "### 1. Случайная непрерывная величина A имеет равномерное распределение на промежутке (200, 800]. Найдите ее среднее значение и дисперсию."
   ]
  },
  {
   "cell_type": "markdown",
   "metadata": {},
   "source": [
    "$M(X) = \\frac{a + b}{2} = (200+800)/2 = 500$\n",
    "\n",
    "$D(X) = \\frac{(b - a)^2}{12} = \\frac{(800-200)^2}{12} = 30 000$"
   ]
  },
  {
   "cell_type": "markdown",
   "metadata": {},
   "source": [
    "### 2.О случайной непрерывной равномерно распределенной величине B известно, что ее дисперсия равна 0.2. Можно ли найти правую границу величины B и ее среднее значение зная, что левая граница равна 0.5?  Если да, найдите ее."
   ]
  },
  {
   "cell_type": "markdown",
   "metadata": {},
   "source": [
    "$D(X) = \\frac{(b - a)^2}{12}$\n",
    "\n",
    "$b = \\sigma \\cdot \\sqrt{12} + a$ "
   ]
  },
  {
   "cell_type": "code",
   "execution_count": 15,
   "metadata": {},
   "outputs": [
    {
     "data": {
      "text/plain": [
       "2.049193338482967"
      ]
     },
     "execution_count": 15,
     "metadata": {},
     "output_type": "execute_result"
    }
   ],
   "source": [
    "b = math.sqrt(0.2) * math.sqrt(12) + 0.5\n",
    "b"
   ]
  },
  {
   "cell_type": "code",
   "execution_count": 18,
   "metadata": {},
   "outputs": [
    {
     "data": {
      "text/plain": [
       "1.2745966692414834"
      ]
     },
     "execution_count": 18,
     "metadata": {},
     "output_type": "execute_result"
    }
   ],
   "source": [
    "M = (0.5+b)/2\n",
    "M"
   ]
  },
  {
   "cell_type": "markdown",
   "metadata": {},
   "source": [
    "### 3. Непрерывная случайная величина X распределена нормально и задана плотностью распределения f(x) = (1 / (4 * sqrt(2*pi))) * (exp(-((x+2)**2) / 32))\n",
    "#### Найдите:\n",
    "а). M(X)\n",
    "б). D(X)\n",
    "в). std(X) (среднее квадратичное отклонение)"
   ]
  },
  {
   "cell_type": "markdown",
   "metadata": {},
   "source": [
    "M(x) = -2\n",
    "\n",
    "D(x) = 16\n",
    "\n",
    "std(X) = 4"
   ]
  },
  {
   "cell_type": "markdown",
   "metadata": {},
   "source": [
    "### 4. Рост взрослого населения города X имеет нормальное распределение. Причем, средний рост равен 174 см, а среднее квадратичное отклонение равно 8 см. Какова вероятность того, что случайным образом выбранный взрослый человек имеет рост:\n",
    "#### а). больше 182 см"
   ]
  },
  {
   "cell_type": "markdown",
   "metadata": {},
   "source": [
    "Правило 3х сигм: 182 = 174 + 1$\\sigma$. Значит вероятность того, что рост больше 182см, лежит выше 1$\\sigma$. (100-68) / 2 = 16%\n",
    "\n",
    "По таблице: Z = (182-174)/8 = 1;  P = 1 - 0.8413 = 0.1587 = 15.87%"
   ]
  },
  {
   "cell_type": "markdown",
   "metadata": {},
   "source": [
    "#### б). больше 190 см"
   ]
  },
  {
   "cell_type": "markdown",
   "metadata": {},
   "source": [
    "Правило 3х сигм: 190 = 174 + 2$\\sigma$. (100 - 95.4) / 2 = 2.3%\n",
    "\n",
    "По таблице: Z = (190-174)/8 = 2;  P = 1 - 0.9772 = 0.0228 = 2.28%"
   ]
  },
  {
   "cell_type": "markdown",
   "metadata": {},
   "source": [
    "#### в). от 166 см до 190 см"
   ]
  },
  {
   "cell_type": "markdown",
   "metadata": {},
   "source": [
    "Правило 3х сигм: 166 = 174 - 1$\\sigma$, 190 = 174 + 2$\\sigma$. 68 + 13.7 = 81.7%\n",
    "\n",
    "По таблице:\n",
    "\n",
    "Z1 = (190-174)/8 = 2;  P1 = 0.9772\n",
    "\n",
    "Z2 = (166-174)/8 = -1; P2 = 0.1587\n",
    "\n",
    "P = 0.9772-0.1587 = 0.8185 = 81.85%"
   ]
  },
  {
   "cell_type": "markdown",
   "metadata": {},
   "source": [
    "#### г). от 166 см до 182 см"
   ]
  },
  {
   "cell_type": "markdown",
   "metadata": {},
   "source": [
    "Правило 3х сигм: 68%\n",
    "\n",
    "По таблице:\n",
    "\n",
    "Z1 = (182-174)/8 = 1;  P1 = 0.8413\n",
    "\n",
    "Z2 = (166-174)/8 = -1; P2 = 0.1587\n",
    "\n",
    "P = 0.8413-0.1587 = 0.6826 = 68.26%"
   ]
  },
  {
   "cell_type": "markdown",
   "metadata": {},
   "source": [
    "#### д). от 158 см до 190 см"
   ]
  },
  {
   "cell_type": "markdown",
   "metadata": {},
   "source": [
    "Правило 3х сигм: 95.4%\n",
    "\n",
    "По таблице: P = 0.9772-0.0228 = 0.9544 = 95.44%"
   ]
  },
  {
   "cell_type": "markdown",
   "metadata": {},
   "source": [
    "#### е). не выше 150 см или не ниже 190 см"
   ]
  },
  {
   "cell_type": "markdown",
   "metadata": {},
   "source": [
    "Правило 3х сигм: (100 - 99.72)/2 + 2.3 = 2.44%\n",
    "\n",
    "По таблице: P = 0.0014 + 0.0228 = 0.0242 = 2.42%"
   ]
  },
  {
   "cell_type": "markdown",
   "metadata": {},
   "source": [
    "#### ё). не выше 150 см или не ниже 198 см"
   ]
  },
  {
   "cell_type": "markdown",
   "metadata": {},
   "source": [
    "Правило 3х сигм: 100-99.72 = 0.28%\n",
    "\n",
    "По таблице: P = 0.0014+0.0014 = 0.0028 = 0.28%"
   ]
  },
  {
   "cell_type": "markdown",
   "metadata": {},
   "source": [
    "#### ж). ниже 166 см."
   ]
  },
  {
   "cell_type": "markdown",
   "metadata": {},
   "source": [
    "Правило 3х сигм: 16%\n",
    "\n",
    "По таблице: P = 0.1587 = 15.87%"
   ]
  },
  {
   "cell_type": "markdown",
   "metadata": {},
   "source": [
    "### 5.На сколько сигм (средних квадратичных отклонений) отклоняется рост человека, равный 190 см, от математического ожидания роста в популяции, в которой M(X) = 178 см и D(X) = 25 кв.см?"
   ]
  },
  {
   "cell_type": "code",
   "execution_count": 53,
   "metadata": {},
   "outputs": [
    {
     "data": {
      "text/plain": [
       "2.4"
      ]
     },
     "execution_count": 53,
     "metadata": {},
     "output_type": "execute_result"
    }
   ],
   "source": [
    "(190-178)/5"
   ]
  }
 ],
 "metadata": {
  "kernelspec": {
   "display_name": "Python 3",
   "language": "python",
   "name": "python3"
  },
  "language_info": {
   "codemirror_mode": {
    "name": "ipython",
    "version": 3
   },
   "file_extension": ".py",
   "mimetype": "text/x-python",
   "name": "python",
   "nbconvert_exporter": "python",
   "pygments_lexer": "ipython3",
   "version": "3.7.9"
  }
 },
 "nbformat": 4,
 "nbformat_minor": 4
}
