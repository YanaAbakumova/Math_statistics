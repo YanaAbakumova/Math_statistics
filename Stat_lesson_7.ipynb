{
 "cells": [
  {
   "cell_type": "code",
   "execution_count": 210,
   "metadata": {},
   "outputs": [],
   "source": [
    "import numpy as np\n",
    "import matplotlib.pyplot as plt\n",
    "%matplotlib inline"
   ]
  },
  {
   "cell_type": "markdown",
   "metadata": {},
   "source": [
    "#### 1. Даны значения величины заработной платы заемщиков банка (zp) и значения их поведенческого кредитного скоринга (ks): zp = [35, 45, 190, 200, 40, 70, 54, 150, 120, 110], ks = [401, 574, 874, 919, 459, 739, 653, 902, 746, 832]. Используя математические операции, посчитать коэффициенты линейной регрессии, приняв за X заработную плату (то есть, zp - признак), а за y - значения скорингового балла (то есть, ks - целевая переменная). Произвести расчет как с использованием intercept, так и без."
   ]
  },
  {
   "cell_type": "code",
   "execution_count": 211,
   "metadata": {},
   "outputs": [],
   "source": [
    "X = np.array([35, 45, 190, 200, 40, 70, 54, 150, 120, 110])\n",
    "y = np.array([401, 574, 874, 919, 459, 739, 653, 902, 746, 832])"
   ]
  },
  {
   "cell_type": "code",
   "execution_count": 212,
   "metadata": {},
   "outputs": [
    {
     "data": {
      "text/plain": [
       "2.620538882402765"
      ]
     },
     "execution_count": 212,
     "metadata": {},
     "output_type": "execute_result"
    }
   ],
   "source": [
    "b = (np.mean(X*y)-np.mean(X)*np.mean(y)) / (np.mean(X**2) - np.mean(X)**2)\n",
    "b"
   ]
  },
  {
   "cell_type": "code",
   "execution_count": 213,
   "metadata": {},
   "outputs": [
    {
     "data": {
      "text/plain": [
       "444.1773573243596"
      ]
     },
     "execution_count": 213,
     "metadata": {},
     "output_type": "execute_result"
    }
   ],
   "source": [
    "a = np.mean(y)-b*np.mean(X)\n",
    "a"
   ]
  },
  {
   "cell_type": "code",
   "execution_count": 214,
   "metadata": {},
   "outputs": [
    {
     "data": {
      "text/plain": [
       "array([535.912, 562.122, 942.167, 968.377, 549.017, 627.647, 585.711,\n",
       "       837.327, 758.697, 732.487])"
      ]
     },
     "execution_count": 214,
     "metadata": {},
     "output_type": "execute_result"
    }
   ],
   "source": [
    "y_hat = round(a, 3) + round(b, 3)*X\n",
    "y_hat"
   ]
  },
  {
   "cell_type": "code",
   "execution_count": 215,
   "metadata": {},
   "outputs": [
    {
     "data": {
      "text/plain": [
       "6470.417097199999"
      ]
     },
     "execution_count": 215,
     "metadata": {},
     "output_type": "execute_result"
    }
   ],
   "source": [
    "mse = ((y-y_hat)**2).sum()/len(X)\n",
    "mse"
   ]
  },
  {
   "cell_type": "code",
   "execution_count": 216,
   "metadata": {},
   "outputs": [],
   "source": [
    "X_int = X.reshape(10, 1)\n",
    "X_no_int = X.reshape(10, 1)\n",
    "y = y.reshape(10, 1)"
   ]
  },
  {
   "cell_type": "code",
   "execution_count": 217,
   "metadata": {},
   "outputs": [],
   "source": [
    "X_int = np.hstack([np.ones((10, 1)), X_int])"
   ]
  },
  {
   "cell_type": "code",
   "execution_count": 218,
   "metadata": {},
   "outputs": [
    {
     "data": {
      "text/plain": [
       "array([[444.17735732],\n",
       "       [  2.62053888]])"
      ]
     },
     "execution_count": 218,
     "metadata": {},
     "output_type": "execute_result"
    }
   ],
   "source": [
    "B_int = np.dot(np.linalg.inv(np.dot(X_int.T, X_int)), X_int.T@y)\n",
    "B_int"
   ]
  },
  {
   "cell_type": "code",
   "execution_count": 219,
   "metadata": {},
   "outputs": [
    {
     "data": {
      "text/plain": [
       "array([[5.88982042]])"
      ]
     },
     "execution_count": 219,
     "metadata": {},
     "output_type": "execute_result"
    }
   ],
   "source": [
    "B_no_int = np.dot(np.linalg.inv(np.dot(X_no_int.T, X_no_int)), X_no_int.T@y)\n",
    "B_no_int"
   ]
  },
  {
   "cell_type": "code",
   "execution_count": 220,
   "metadata": {},
   "outputs": [
    {
     "data": {
      "text/plain": [
       "array([ 206.1437147 ,  265.04191891, 1119.06587983, 1177.96408403,\n",
       "        235.59281681,  412.28742941,  318.05030269,  883.47306302,\n",
       "        706.77845042,  647.88024621])"
      ]
     },
     "execution_count": 220,
     "metadata": {},
     "output_type": "execute_result"
    }
   ],
   "source": [
    "y_hat2=B_no_int[0]*X\n",
    "y_hat2"
   ]
  },
  {
   "cell_type": "code",
   "execution_count": 221,
   "metadata": {},
   "outputs": [
    {
     "data": {
      "text/plain": [
       "56516.8584157194"
      ]
     },
     "execution_count": 221,
     "metadata": {},
     "output_type": "execute_result"
    }
   ],
   "source": [
    "mse2=((y.reshape(10,)-y_hat2)**2).sum()/len(X)\n",
    "mse2"
   ]
  },
  {
   "cell_type": "code",
   "execution_count": 222,
   "metadata": {},
   "outputs": [
    {
     "data": {
      "image/png": "[encoded data removed]",
      "text/plain": [
       "<Figure size 432x288 with 1 Axes>"
      ]
     },
     "metadata": {
      "needs_background": "light"
     },
     "output_type": "display_data"
    }
   ],
   "source": [
    "plt.scatter(X, y.reshape(10,))\n",
    "plt.plot(X, B_int[0]+B_int[1]*X, label='with intercept')\n",
    "plt.plot(X, B_no_int[0]*X, label='without intercept')\n",
    "plt.legend()\n",
    "\n",
    "plt.show()"
   ]
  },
  {
   "cell_type": "markdown",
   "metadata": {},
   "source": [
    "#### 2. Посчитать коэффициент линейной регрессии при заработной плате (zp), используя градиентный спуск (без intercept)."
   ]
  },
  {
   "cell_type": "code",
   "execution_count": 223,
   "metadata": {},
   "outputs": [],
   "source": [
    "X = np.array([35, 45, 190, 200, 40, 70, 54, 150, 120, 110])\n",
    "y = np.array([401, 574, 874, 919, 459, 739, 653, 902, 746, 832])"
   ]
  },
  {
   "cell_type": "code",
   "execution_count": 224,
   "metadata": {},
   "outputs": [
    {
     "name": "stdout",
     "output_type": "stream",
     "text": [
      "iteration: 0, B1=0.25952808, mse=493237.7212546963\n",
      "iteration: 100, B1=5.54537842245223, mse=58151.31823171113\n",
      "iteration: 200, B1=5.868748638669329, mse=56522.97550129376\n",
      "iteration: 300, B1=5.888531320728348, mse=56516.88130936019\n",
      "iteration: 400, B1=5.8897415574471985, mse=56516.85850140053\n",
      "iteration: 500, B1=5.889815595583751, mse=56516.858416040064\n",
      "iteration: 600, B1=5.889820124983314, mse=56516.85841572062\n",
      "iteration: 700, B1=5.889820402076462, mse=56516.85841571941\n",
      "iteration: 800, B1=5.88982041902807, mse=56516.8584157194\n",
      "iteration: 900, B1=5.889820420065112, mse=56516.85841571941\n",
      "iteration: 1000, B1=5.8898204201285544, mse=56516.85841571941\n",
      "iteration: 1100, B1=5.889820420132437, mse=56516.85841571943\n",
      "iteration: 1200, B1=5.889820420132673, mse=56516.85841571943\n",
      "iteration: 1300, B1=5.889820420132673, mse=56516.85841571943\n",
      "iteration: 1400, B1=5.889820420132673, mse=56516.85841571943\n",
      "iteration: 1500, B1=5.889820420132673, mse=56516.85841571943\n"
     ]
    }
   ],
   "source": [
    "B1=0.1\n",
    "n=len(X)\n",
    "for i in range(1501):\n",
    "    B1-=1e-6*(2/n)*np.sum((B1*X-y)*X)\n",
    "    if i%100==0:\n",
    "        print(f'iteration: {i}, B1={B1}, mse={np.sum((B1*X-y)**2)/n}')"
   ]
  },
  {
   "cell_type": "markdown",
   "metadata": {},
   "source": [
    "#### *3. Произвести вычисления как в пункте 2, но с вычислением intercept. Учесть, что изменение коэффициентов должно производиться на каждом шаге одновременно (то есть изменение одного коэффициента не должно влиять на изменение другого во время одной итерации)."
   ]
  },
  {
   "cell_type": "code",
   "execution_count": 225,
   "metadata": {},
   "outputs": [
    {
     "name": "stdout",
     "output_type": "stream",
     "text": [
      "iteration: 0, B0 = 5.2819638399999995, B1=1.6845689773324803, mse=294477.22466541035\n",
      "iteration: 500, B0 = 186.8331769965101, B1=4.519195828086825, mse=23269.915490693114\n",
      "iteration: 1000, B0 = 275.50415952176047, B1=3.8646825071089568, mse=13687.442450956873\n",
      "iteration: 1500, B0 = 332.5416596315094, B1=3.44407970929702, mse=9631.768564361575\n",
      "iteration: 2000, B0 = 375.2490687256826, B1=3.129359562281924, mse=7675.634306943638\n",
      "iteration: 2500, B0 = 410.99696681532123, B1=2.8660637886174967, mse=6749.707155647069\n",
      "iteration: 3000, B0 = 443.8158873206641, B1=2.624451640244009, mse=6470.468947910892\n"
     ]
    }
   ],
   "source": [
    "B0=0.1\n",
    "B1=0.1\n",
    "n=len(X)\n",
    "mse=np.sum((B0+B1*X-y)**2)/n\n",
    "for i in range(5001):\n",
    "    B0 +=0.00001*np.sum((B0+B1*X-y)**2)/n\n",
    "    B1-=0.00001*(2/n)*np.sum((B0+B1*X-y)*X)\n",
    "    if np.sum((B0+B1*X-y)**2)/n < mse:\n",
    "        mse = np.sum((B0+B1*X-y)**2)/n\n",
    "    else:\n",
    "        break\n",
    "    if i%500==0:\n",
    "        print(f'iteration: {i}, B0 = {B0}, B1={B1}, mse={np.sum((B0+B1*X-y)**2)/n}')"
   ]
  },
  {
   "cell_type": "markdown",
   "metadata": {},
   "source": [
    "#### Тема курсовой работы - линейная регрессия (датасет по ценам на недвижимость)"
   ]
  },
  {
   "cell_type": "code",
   "execution_count": null,
   "metadata": {},
   "outputs": [],
   "source": []
  }
 ],
 "metadata": {
  "kernelspec": {
   "display_name": "Python 3",
   "language": "python",
   "name": "python3"
  },
  "language_info": {
   "codemirror_mode": {
    "name": "ipython",
    "version": 3
   },
   "file_extension": ".py",
   "mimetype": "text/x-python",
   "name": "python",
   "nbconvert_exporter": "python",
   "pygments_lexer": "ipython3",
   "version": "3.7.9"
  }
 },
 "nbformat": 4,
 "nbformat_minor": 4
}
