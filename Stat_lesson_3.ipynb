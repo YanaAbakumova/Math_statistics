{
 "cells": [
  {
   "cell_type": "markdown",
   "metadata": {},
   "source": [
    "### 1. Даны значения зарплат из выборки выпускников: 100, 80, 75, 77, 89, 33, 45, 25, 65, 17, 30, 24, 57, 55, 70, 75, 65, 84, 90, 150. Посчитать среднее арифметическое, среднее квадратичное отклонение, смещенную и несмещенную оценки дисперсий для данной выборки"
   ]
  },
  {
   "cell_type": "code",
   "execution_count": 48,
   "metadata": {},
   "outputs": [],
   "source": [
    "import numpy as np"
   ]
  },
  {
   "cell_type": "code",
   "execution_count": 49,
   "metadata": {},
   "outputs": [],
   "source": [
    "z = np.array([100, 80, 75, 77, 89, 33, 45, 25, 65, 17, 30, 24, 57, 55, 70, 75, 65, 84, 90, 150])"
   ]
  },
  {
   "cell_type": "code",
   "execution_count": 50,
   "metadata": {},
   "outputs": [],
   "source": [
    "z.sort()"
   ]
  },
  {
   "cell_type": "code",
   "execution_count": 51,
   "metadata": {},
   "outputs": [
    {
     "name": "stdout",
     "output_type": "stream",
     "text": [
      "среднее арифметическое равно 65.3\n",
      "среднее квадратичное отклонение равно 30.82\n",
      "несмещенная дисперсия равна 1000.12\n",
      "смещенная дисперсия равна 950.11\n"
     ]
    }
   ],
   "source": [
    "M = z.sum()/len(z)\n",
    "S = np.sqrt(((z-M)**2).sum()/len(z))\n",
    "unbiased_var = ((z-M)**2).sum()/(len(z)-1)\n",
    "biased_var=((z-M)**2).sum()/len(z)\n",
    "print(f'среднее арифметическое равно {M}')\n",
    "print(f'среднее квадратичное отклонение равно {round(S, 2)}')\n",
    "print(f'несмещенная дисперсия равна {round(unbiased_var, 2)}')\n",
    "print(f'смещенная дисперсия равна {round(biased_var, 2)}')"
   ]
  },
  {
   "cell_type": "code",
   "execution_count": 52,
   "metadata": {},
   "outputs": [
    {
     "name": "stdout",
     "output_type": "stream",
     "text": [
      "65.3 30.823854398825592 1000.115789473684 950.1099999999999\n"
     ]
    }
   ],
   "source": [
    "#Проверка:\n",
    "print(z.mean(), z.std(), z.var(ddof=1), z.var(ddof=0))"
   ]
  },
  {
   "cell_type": "markdown",
   "metadata": {},
   "source": [
    "### 2. В первом ящике находится 8 мячей, из которых 5 - белые. Во втором ящике - 12 мячей, из которых 5 белых. Из первого ящика вытаскивают случайным образом два мяча, из второго - 4. Какова вероятность того, что 3 мяча белые?"
   ]
  },
  {
   "cell_type": "code",
   "execution_count": 53,
   "metadata": {},
   "outputs": [],
   "source": [
    "def combinations(n, k):\n",
    "    return int(np.math.factorial(n) / (np.math.factorial(k) * np.math.factorial(n - k)))"
   ]
  },
  {
   "cell_type": "code",
   "execution_count": 54,
   "metadata": {},
   "outputs": [],
   "source": [
    "# 2б из 1 + 1б из 2\n",
    "a = (combinations(5, 2)/ combinations(8,2)) * (combinations(5, 1)* combinations(7, 3)/ combinations(12,4)) "
   ]
  },
  {
   "cell_type": "code",
   "execution_count": 55,
   "metadata": {},
   "outputs": [],
   "source": [
    "# 1б из 1 + 2б из 2\n",
    "b = (combinations(5, 1) * combinations(3, 1)/ combinations(8,2)) * (combinations(5, 2)* combinations(7, 2)/ combinations(12,4)) "
   ]
  },
  {
   "cell_type": "code",
   "execution_count": 56,
   "metadata": {},
   "outputs": [],
   "source": [
    "# 0б из 1 + 3б из 2\n",
    "c = (combinations(3, 2)/ combinations(8,2)) * (combinations(5, 3)* combinations(7, 1)/ combinations(12,4)) "
   ]
  },
  {
   "cell_type": "code",
   "execution_count": 57,
   "metadata": {},
   "outputs": [
    {
     "name": "stdout",
     "output_type": "stream",
     "text": [
      " Вероятность того, что 3 мяча белые: 0.3687\n"
     ]
    }
   ],
   "source": [
    "print(f' Вероятность того, что 3 мяча белые: {round(a+b+c, 4)}')"
   ]
  },
  {
   "cell_type": "markdown",
   "metadata": {},
   "source": [
    "### 3.На соревновании по биатлону один из трех спортсменов стреляет и попадает в мишень. Вероятность попадания для первого спортсмена равна 0.9, для второго — 0.8, для третьего — 0.6. Найти вероятность того, что выстрел произведен: a). первым спортсменом б). вторым спортсменом в). третьим спортсменом."
   ]
  },
  {
   "cell_type": "code",
   "execution_count": 58,
   "metadata": {},
   "outputs": [
    {
     "name": "stdout",
     "output_type": "stream",
     "text": [
      "Вероятность, что выстрел произвелен 1м спортсменом: 0.3913\n",
      "Вероятность, что выстрел произвелен 2м спортсменом: 0.3478\n",
      "Вероятность, что выстрел произвелен 3м спортсменом: 0.2609\n"
     ]
    }
   ],
   "source": [
    "PA = 1/3*0.9 + 1/3* 0.8 + 1/3 * 0.6\n",
    "print(f'Вероятность, что выстрел произвелен 1м спортсменом: {round(1/3*0.9 / PA, 4)}')\n",
    "print(f'Вероятность, что выстрел произвелен 2м спортсменом: {round(1/3*0.8 / PA, 4)}')\n",
    "print(f'Вероятность, что выстрел произвелен 3м спортсменом: {round(1/3*0.6 / PA, 4)}')"
   ]
  },
  {
   "cell_type": "markdown",
   "metadata": {},
   "source": [
    "### 4. В университет на факультеты A и B поступило равное количество студентов, а на факультет C студентов поступило столько же, сколько на A и B вместе. Вероятность того, что студент факультета A сдаст первую сессию, равна 0.8. Для студента факультета B эта вероятность равна 0.7, а для студента факультета C - 0.9. Студент сдал первую сессию. Какова вероятность, что он учится: a). на факультете A б). на факультете B в). на факультете C?"
   ]
  },
  {
   "cell_type": "code",
   "execution_count": 59,
   "metadata": {},
   "outputs": [
    {
     "name": "stdout",
     "output_type": "stream",
     "text": [
      "Вероятность, что это студент факультета А: 0.2424\n",
      "Вероятность, что это студент факультета В: 0.2121\n",
      "Вероятность, что это студент факультета С: 0.5455\n"
     ]
    }
   ],
   "source": [
    "PA = 0.25*0.8 + 0.25* 0.7 + 0.5 * 0.9\n",
    "print(f'Вероятность, что это студент факультета А: {round(0.25*0.8 / PA,4)}')\n",
    "print(f'Вероятность, что это студент факультета В: {round(0.25*0.7 / PA, 4)}')\n",
    "print(f'Вероятность, что это студент факультета С: {round(0.5*0.9 / PA, 4)}')"
   ]
  },
  {
   "cell_type": "markdown",
   "metadata": {},
   "source": [
    "### 5. Устройство состоит из трех деталей. Для первой детали вероятность выйти из строя в первый месяц равна 0.1, для второй - 0.2, для третьей - 0.25. Какова вероятность того, что в первый месяц выйдут из строя: а). все детали б). только две детали в). хотя бы одна деталь г). от одной до двух деталей?"
   ]
  },
  {
   "cell_type": "code",
   "execution_count": 60,
   "metadata": {},
   "outputs": [
    {
     "name": "stdout",
     "output_type": "stream",
     "text": [
      "Вероятность, что все детали выйдут из строя: 0.005\n",
      "Вероятность, что только 2 детали выйдут из строя: 0.08\n",
      "Вероятность, что хотя бы 1 деталь выйдет из строя: 0.46\n",
      "Вероятность, что 1 или 2 детали выйдут из строя: 0.455\n"
     ]
    }
   ],
   "source": [
    "print(f'Вероятность, что все детали выйдут из строя: {round(0.1* 0.2 * 0.25, 3)}')\n",
    "print(f'Вероятность, что только 2 детали выйдут из строя: {round(0.1*0.2*0.75+ 0.1*0.8*0.25+0.9*0.2*0.25,3)}')\n",
    "print(f'Вероятность, что хотя бы 1 деталь выйдет из строя: {round(1 - 0.9*0.8*0.75, 3)}')\n",
    "print(f'Вероятность, что 1 или 2 детали выйдут из строя: {round(1 - 0.9*0.8*0.75 - 0.1* 0.2 * 0.25 , 3)}')"
   ]
  },
  {
   "cell_type": "code",
   "execution_count": null,
   "metadata": {},
   "outputs": [],
   "source": []
  }
 ],
 "metadata": {
  "kernelspec": {
   "display_name": "Python 3",
   "language": "python",
   "name": "python3"
  },
  "language_info": {
   "codemirror_mode": {
    "name": "ipython",
    "version": 3
   },
   "file_extension": ".py",
   "mimetype": "text/x-python",
   "name": "python",
   "nbconvert_exporter": "python",
   "pygments_lexer": "ipython3",
   "version": "3.7.9"
  }
 },
 "nbformat": 4,
 "nbformat_minor": 4
}
